{
 "cells": [
  {
   "cell_type": "markdown",
   "id": "ed7d3f23-6348-4378-bfab-e18f9b2539b4",
   "metadata": {},
   "source": [
    "Q1. What are the characteristics of the tuples? Is tuple immutable?\n",
    "Ans. \n",
    "Tuples are a data type in Python that are similar to lists, but they are immutable. This means that once a tuple is created, its elements cannot be changed. Tuples are indexed, ordered, and can contain duplicate elements.\n",
    "Here are the characteristics of tuples:\n",
    "Immutable: Tuples cannot be changed once they are created. This means that you cannot add, remove, or change the elements of a tuple.\n",
    "Ordered: The elements of a tuple are ordered, which means that they have a specific position. This order is important for operations such as slicing and indexing.\n",
    "Indexed: Tuples can be indexed, which means that you can access individual elements of a tuple by their index. The index of the first element is 0, the index of the second element is 1, and so on.\n",
    "Can contain duplicate elements: Tuples can contain duplicate elements. This means that you can have two or more elements of the same value in a tuple.\n",
    "Here is an example of a tuple:\n",
    "tuple1 = (1, 2, 3, 4, 5)\n",
    "This tuple has 5 elements, and they are all integers. The elements are ordered, so the first element is 1, the second element is 2, and so on. The tuple also contains duplicate elements, since 3 appears twice.\n"
   ]
  },
  {
   "cell_type": "markdown",
   "id": "14719bfe-1a18-4916-a2ba-8b31d60e60f7",
   "metadata": {},
   "source": [
    "Q2. What are the two tuple methods in python? Give an example of each method. Give a reason why tuples have only two in-built methods as compared to Lists.\n",
    "Ans. The two tuple methods in Python are count() and index().\n",
    "count() method returns the number of times a specified value appears in the tuple. For example, the following code counts the number of occurrences of the number 1 in the tuple tuple1:\n",
    "tuple1 = (1, 2, 3, 1, 2)\n",
    "print(tuple1.count(1))\n",
    "This code will print the number 2, because the number 1 appears twice in the tuple tuple1.\n",
    "index() method returns the index of the first occurrence of a specified value in the tuple. If the value does not appear in the tuple, the method returns a ValueError exception. For example, the following code prints the index of the first occurrence of the number 1 in the tuple tuple1:\n",
    "tuple1 = (1, 2, 3, 1, 2)\n",
    "\n",
    "print(tuple1.index(1))\n",
    "This code will print the number 0, because the number 1 appears at the first index of the tuple tuple1.\n",
    "Tuples have only two in-built methods as compared to Lists because tuples are immutable. This means that their elements cannot be changed once they are created. Lists, on the other hand, are mutable, which means that their elements can be changed. This is why lists have more methods than tuples, because they need more methods to manipulate their elements.\n"
   ]
  },
  {
   "cell_type": "markdown",
   "id": "d46998de-e501-49fa-aa6d-2c630ee56bda",
   "metadata": {},
   "source": [
    "Q3. Which collection datatypes in python do not allow duplicate items? Write a code using a set to remove duplicates from the given list.\n",
    "Ans. The collection datatypes in Python that do not allow duplicate items are: Sets.\n",
    "Sets are unordered collections of unique elements. This means that no element can appear more than once in a set.\n",
    "Code to remove duplicates from a list using a set:\n",
    "List = [1, 1, 1, 2, 1, 3, 1, 4, 2, 1, 2, 2, 2, 3, 2, 4, 3, 1, 3, 2, 3, 3, 3, 4, 4, 1, 4, 2, 4, 3, 4, 4]\n",
    "unique_numbers = set(List)\n",
    "List = list(unique_numbers)\n",
    "print(List)\n"
   ]
  },
  {
   "cell_type": "markdown",
   "id": "2a759f6d-d865-44a7-a9e4-fb5894a4920c",
   "metadata": {},
   "source": [
    "Q4. Explain the difference between the union() and update() methods for a set. Give an example of each method.\n",
    "Ans. The union() and update() methods are both used to combine two sets, but they have different behaviors and return values.\n",
    "The union() method returns a new set that contains all the elements from both sets. It does not modify the original sets.\n",
    "For example, the following code creates two sets, set1 and set2:\n",
    "set1 = {1, 2, 3}\n",
    "set2 = {4, 5, 6}\n",
    "union_set = set1.union(set2)\n",
    "print(union_set)\n",
    "Output:\n",
    "{1, 2, 3, 4, 5, 6}\n",
    "Union_set contains all the elements from set1 and set2. However, set1 and set2 themselves are not modified.\n",
    "\n",
    "The update() method modifies the original set by adding elements from the specified set. It does not return a new set.\n",
    "For example, the following code modifies set1 to include all the elements from set2:\n",
    "set1 = {1, 2, 3}\n",
    "set2 = {4, 5, 6}\n",
    "set1.update(set2)\n",
    "print(set1)\n",
    "Output:\n",
    "{1, 2, 3, 4, 5, 6}\n"
   ]
  },
  {
   "cell_type": "markdown",
   "id": "4b1c6b05-1ff8-4400-9ddc-dd3a4cde2ac3",
   "metadata": {},
   "source": [
    "Q5. What is a dictionary? Give an example. Also, state whether a dictionary is ordered or unordered.\n",
    "Ans. \n",
    "A dictionary is a data structure in Python that is used to store data in key-value pairs. The keys are unique, and the values can be of any data type. Dictionaries are unordered, which means that the order of the keys does not matter.\n",
    "dict = {\"name\": \"HI\",\"age\": 2,\"is_not\": False,}\n",
    "In this dictionary, the key name is associated with the value \"HI\", the key age is associated with the value 2, and the key is_not is associated with the value False.\n",
    "Dictionaries are a very versatile data structure that can be used to store a variety of data. They are often used to store data that is related, such as the names and ages of people or the names and prices of products.\n",
    "Important properties of dictionaries:\n",
    "Dictionaries are unordered. The order of the keys does not matter.\n",
    "Dictionaries are mutable. The keys and values can be changed after the dictionary is created.\n",
    "Dictionaries are indexed by keys. You can access the value of a key by using the key as an index.\n",
    "Dictionaries can be nested. We can create a dictionary inside another dictionary.\n"
   ]
  },
  {
   "cell_type": "markdown",
   "id": "223e8405-4aa6-4a19-b597-79da4736fbd7",
   "metadata": {},
   "source": [
    "Q6. Can we create a nested dictionary? If so, please give an example by creating a simple one-level nested dictionary.\n",
    "Ans. Yes, we can create nested dictionaries in Python. A nested dictionary is a dictionary that contains another dictionary.\n",
    "Here is an example of a simple one-level nested dictionary:\n",
    "nested_dict = {\n",
    "    \"name\": \"Bard\",\n",
    "    \"age\": 2,\n",
    "    \"is_human\": False,\n",
    "    \"address\": {\n",
    "        \"street\": \"123 Main Street\",\n",
    "        \"city\": \"Los Angeles\",\n",
    "        \"state\": \"California\",\n",
    "        \"zip code\": \"90001\",\n",
    "    },\n",
    "}\n",
    "In this dictionary, the key address is associated with another dictionary, which contains the address information for Bard.\n",
    "We can access the nested dictionary by using the key as an index. For example, to access the street name, we would use the following code:\n",
    "print(nested_dict[\"address\"][\"street\"])\n",
    "This code will print the string \"123 Main Street\".\n"
   ]
  },
  {
   "cell_type": "markdown",
   "id": "342b0122-257e-4783-9230-21c0a429d9f1",
   "metadata": {},
   "source": [
    "Q7. Using setdefault() method, create key named topics in the given dictionary and also add the value of the key as this list ['Python', 'Machine Learning’, 'Deep Learning']\n",
    "dict1 = {'language' : 'Python', 'course': 'Data Science Masters'}\n",
    "Ans. We can use the setdefault() method to create a key named topics in the dictionary dict1 and add the value of the key as the list ['Python', 'Machine Learning', 'Deep Learning']. The code is as follows:\n",
    "dict1 = {'language': 'Python', 'course': 'Data Science Masters'}\n",
    "dict1.setdefault('topics', []).extend(['Python', 'Machine Learning', 'Deep Learning'])\n",
    "print(dict1)\n",
    "This code will first check if the key topics exists in the dictionary dict1. If it does not exist, the setdefault() method will create the key and set the value to the empty list []. Then, the extend() method will add the list ['Python', 'Machine Learning', 'Deep Learning'] to the value of the key topics. Finally, the code will print the dictionary dict1.\n",
    "The output of the code is:\n",
    "{'language': 'Python', 'course': 'Data Science Masters', 'topics': ['Python', 'Machine Learning', 'Deep Learning']}.\n"
   ]
  },
  {
   "cell_type": "markdown",
   "id": "2dc3f1e3-a912-4131-93fc-c5ee040c99ac",
   "metadata": {},
   "source": [
    "Q8. What are the three view objects in dictionaries? Use the three in-built methods in python to display these three view objects for the given dictionary.\n",
    "dict1 = {'Sport': 'Cricket' , 'Teams': ['India', 'Australia', 'England', 'South Africa', 'Sri Lanka', 'New Zealand']}\n",
    "Ans. The three view objects in dictionaries are:\n",
    "keys(): This method returns a view object that contains all the keys of the dictionary.\n",
    "values(): This method returns a view object that contains all the values of the dictionary.\n",
    "items(): This method returns a view object that contains all the key-value pairs of the dictionary.\n",
    "To display the three view objects for the given dictionary, you can use the following code:\n",
    "dict1 = {'Sport': 'Cricket', 'Teams': ['India', 'Australia', 'England', 'South Africa', 'Sri Lanka', 'New Zealand']}\n",
    "print(dict1.keys())\n",
    "print(dict1.values())\n",
    "print(dict1.items())\n",
    "This code will print the following output:\n",
    "dict_keys(['Sport', 'Teams'])\n",
    "dict_values(['Cricket', ['India', 'Australia', 'England', 'South Africa', 'Sri Lanka', 'New Zealand']])\n",
    "dict_items([('Sport', 'Cricket'), ('Teams', ['India', 'Australia', 'England', 'South Africa', 'Sri Lanka', 'New Zealand'])])\n",
    "As we can see, the keys() method returns a view object that contains the keys of the dictionary, the values() method returns a view object that contains the values of the dictionary, and the items() method returns a view object that contains the key-value pairs of the dictionary.\n",
    "View objects are read-only and cannot be modified. They are also dynamic, which means that they are updated automatically when the dictionary is modified.\n"
   ]
  }
 ],
 "metadata": {
  "kernelspec": {
   "display_name": "Python 3 (ipykernel)",
   "language": "python",
   "name": "python3"
  },
  "language_info": {
   "codemirror_mode": {
    "name": "ipython",
    "version": 3
   },
   "file_extension": ".py",
   "mimetype": "text/x-python",
   "name": "python",
   "nbconvert_exporter": "python",
   "pygments_lexer": "ipython3",
   "version": "3.10.8"
  }
 },
 "nbformat": 4,
 "nbformat_minor": 5
}
